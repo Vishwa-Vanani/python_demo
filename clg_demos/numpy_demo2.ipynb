{
 "cells": [
  {
   "cell_type": "code",
   "execution_count": 5,
   "id": "33e53547-4b6f-41c5-8c81-d016d17cee95",
   "metadata": {},
   "outputs": [],
   "source": [
    "import numpy as np"
   ]
  },
  {
   "cell_type": "code",
   "execution_count": 3,
   "id": "00d7f531-8b58-47be-adb0-ff45589ec117",
   "metadata": {},
   "outputs": [
    {
     "data": {
      "text/plain": [
       "array([], dtype=float64)"
      ]
     },
     "execution_count": 3,
     "metadata": {},
     "output_type": "execute_result"
    }
   ],
   "source": [
    "n1=np.array([])\n",
    "n1"
   ]
  },
  {
   "cell_type": "code",
   "execution_count": 5,
   "id": "53321673-c350-459e-b5d1-086d29f85f4b",
   "metadata": {},
   "outputs": [
    {
     "data": {
      "text/plain": [
       "array([ 1,  4,  6,  8,  9, 10])"
      ]
     },
     "execution_count": 5,
     "metadata": {},
     "output_type": "execute_result"
    }
   ],
   "source": [
    "list1=[1,4,6,8,9,10]\n",
    "n2=np.array(list1)\n",
    "n2"
   ]
  },
  {
   "cell_type": "code",
   "execution_count": 7,
   "id": "33809e6f-6322-4366-8208-010613374817",
   "metadata": {},
   "outputs": [
    {
     "data": {
      "text/plain": [
       "dtype('int32')"
      ]
     },
     "execution_count": 7,
     "metadata": {},
     "output_type": "execute_result"
    }
   ],
   "source": [
    "n2.dtype"
   ]
  },
  {
   "cell_type": "code",
   "execution_count": 9,
   "id": "1f1bcc5d-8c79-4737-8239-d1265b7677a1",
   "metadata": {},
   "outputs": [
    {
     "data": {
      "text/plain": [
       "array([5, 6, 7, 8, 9])"
      ]
     },
     "execution_count": 9,
     "metadata": {},
     "output_type": "execute_result"
    }
   ],
   "source": [
    "t1=(5,6,7,8,9)\n",
    "n3=np.array(t1)\n",
    "n3"
   ]
  },
  {
   "cell_type": "code",
   "execution_count": 13,
   "id": "895168cf-4248-4b1e-b08a-34023dff8401",
   "metadata": {},
   "outputs": [
    {
     "data": {
      "text/plain": [
       "array([[0., 0., 0.],\n",
       "       [0., 0., 0.],\n",
       "       [0., 0., 0.]])"
      ]
     },
     "execution_count": 13,
     "metadata": {},
     "output_type": "execute_result"
    }
   ],
   "source": [
    "n4=np.zeros((3,3))\n",
    "n4"
   ]
  },
  {
   "cell_type": "code",
   "execution_count": 15,
   "id": "65f748dc-b35c-40bb-b656-1c04673b4ed6",
   "metadata": {},
   "outputs": [
    {
     "data": {
      "text/plain": [
       "array([[1., 1., 1.],\n",
       "       [1., 1., 1.]])"
      ]
     },
     "execution_count": 15,
     "metadata": {},
     "output_type": "execute_result"
    }
   ],
   "source": [
    "n5=np.ones((2,3))\n",
    "n5"
   ]
  },
  {
   "cell_type": "code",
   "execution_count": 17,
   "id": "43b74603-7c99-4304-8e9a-eb9419521b6d",
   "metadata": {},
   "outputs": [
    {
     "data": {
      "text/plain": [
       "dtype('float64')"
      ]
     },
     "execution_count": 17,
     "metadata": {},
     "output_type": "execute_result"
    }
   ],
   "source": [
    "n5.dtype"
   ]
  },
  {
   "cell_type": "code",
   "execution_count": 23,
   "id": "e88f484f-955f-4f30-882e-01fc39b8cbe3",
   "metadata": {},
   "outputs": [
    {
     "data": {
      "text/plain": [
       "array([[9, 9, 9, 9],\n",
       "       [9, 9, 9, 9],\n",
       "       [9, 9, 9, 9]])"
      ]
     },
     "execution_count": 23,
     "metadata": {},
     "output_type": "execute_result"
    }
   ],
   "source": [
    "n6=np.full((3,4),9)\n",
    "n6"
   ]
  },
  {
   "cell_type": "code",
   "execution_count": 29,
   "id": "92bb930d-607e-44d2-80f5-3dffa242f16c",
   "metadata": {},
   "outputs": [
    {
     "data": {
      "text/plain": [
       "array([[11, 12, 13],\n",
       "       [14, 15, 16],\n",
       "       [17, 18, 19]])"
      ]
     },
     "execution_count": 29,
     "metadata": {},
     "output_type": "execute_result"
    }
   ],
   "source": [
    "n7=np.arange(11,20).reshape(3,3)\n",
    "n7"
   ]
  },
  {
   "cell_type": "code",
   "execution_count": 35,
   "id": "8b0bcd1f-0dbb-43ac-9b62-33bbe732980e",
   "metadata": {},
   "outputs": [
    {
     "data": {
      "text/plain": [
       "array([[18, 17, 16, 18, 11],\n",
       "       [14, 13, 19, 15, 11],\n",
       "       [18, 12, 16, 12, 15],\n",
       "       [15, 14, 17, 17, 16],\n",
       "       [14, 18, 15, 15, 16]])"
      ]
     },
     "execution_count": 35,
     "metadata": {},
     "output_type": "execute_result"
    }
   ],
   "source": [
    "n8=np.random.randint(11,20,25).reshape(5,5)\n",
    "n8"
   ]
  },
  {
   "cell_type": "code",
   "execution_count": 17,
   "id": "2f54e98b-3e5b-493f-988d-cce302fc6347",
   "metadata": {},
   "outputs": [
    {
     "data": {
      "text/plain": [
       "array([[ 1. ,  2.8],\n",
       "       [ 4.6,  6.4],\n",
       "       [ 8.2, 10. ]])"
      ]
     },
     "execution_count": 17,
     "metadata": {},
     "output_type": "execute_result"
    }
   ],
   "source": [
    "n9=np.linspace(1,10,6).reshape(3,2)\n",
    "n9"
   ]
  },
  {
   "cell_type": "code",
   "execution_count": 19,
   "id": "a166c32f-d73a-4683-bc67-a91ae1832f6e",
   "metadata": {},
   "outputs": [
    {
     "data": {
      "text/plain": [
       "dtype('int32')"
      ]
     },
     "execution_count": 19,
     "metadata": {},
     "output_type": "execute_result"
    }
   ],
   "source": [
    "n8.dtype"
   ]
  },
  {
   "cell_type": "code",
   "execution_count": 21,
   "id": "7eb906f4-81e3-4836-a9ca-15cfd797ffe9",
   "metadata": {},
   "outputs": [
    {
     "data": {
      "text/plain": [
       "dtype('float64')"
      ]
     },
     "execution_count": 21,
     "metadata": {},
     "output_type": "execute_result"
    }
   ],
   "source": [
    "n9.dtype"
   ]
  },
  {
   "cell_type": "code",
   "execution_count": 23,
   "id": "16386555-881c-433b-9a6b-89935b42a6f9",
   "metadata": {},
   "outputs": [
    {
     "data": {
      "text/plain": [
       "6"
      ]
     },
     "execution_count": 23,
     "metadata": {},
     "output_type": "execute_result"
    }
   ],
   "source": [
    "n9.size"
   ]
  },
  {
   "cell_type": "code",
   "execution_count": 25,
   "id": "8a52a825-4185-425e-bce9-9e419ad1806d",
   "metadata": {},
   "outputs": [
    {
     "data": {
      "text/plain": [
       "(3, 2)"
      ]
     },
     "execution_count": 25,
     "metadata": {},
     "output_type": "execute_result"
    }
   ],
   "source": [
    "n9.shape"
   ]
  },
  {
   "cell_type": "code",
   "execution_count": 27,
   "id": "831fb0c5-4f03-4bf2-9601-f727b1134972",
   "metadata": {},
   "outputs": [
    {
     "data": {
      "text/plain": [
       "2"
      ]
     },
     "execution_count": 27,
     "metadata": {},
     "output_type": "execute_result"
    }
   ],
   "source": [
    "n9.ndim"
   ]
  },
  {
   "cell_type": "code",
   "execution_count": 35,
   "id": "1e9ffb3e-d361-4792-9eae-fca2571e5680",
   "metadata": {},
   "outputs": [
    {
     "data": {
      "text/plain": [
       "array([[[1, 2, 3],\n",
       "        [4, 5, 6],\n",
       "        [7, 8, 9]],\n",
       "\n",
       "       [[1, 2, 3],\n",
       "        [4, 5, 6],\n",
       "        [7, 8, 9]]])"
      ]
     },
     "execution_count": 35,
     "metadata": {},
     "output_type": "execute_result"
    }
   ],
   "source": [
    "n10=np.array([[[1,2,3],[4,5,6],[7,8,9]],[[1,2,3],[4,5,6],[7,8,9]]])\n",
    "n10"
   ]
  },
  {
   "cell_type": "code",
   "execution_count": 37,
   "id": "cb330241-b6f5-449b-80f1-30c6d7d01997",
   "metadata": {},
   "outputs": [
    {
     "data": {
      "text/plain": [
       "3"
      ]
     },
     "execution_count": 37,
     "metadata": {},
     "output_type": "execute_result"
    }
   ],
   "source": [
    "n10.ndim"
   ]
  },
  {
   "cell_type": "code",
   "execution_count": 39,
   "id": "2ab501d4-5815-4041-a74a-b6c9c361d3c0",
   "metadata": {},
   "outputs": [
    {
     "data": {
      "text/plain": [
       "(2, 3, 3)"
      ]
     },
     "execution_count": 39,
     "metadata": {},
     "output_type": "execute_result"
    }
   ],
   "source": [
    "n10.shape"
   ]
  },
  {
   "cell_type": "code",
   "execution_count": 41,
   "id": "0d8411ef-afb9-4eb9-bdd8-cb157bd5bd7a",
   "metadata": {},
   "outputs": [
    {
     "data": {
      "text/plain": [
       "array([[13, 11, 16, 11, 13],\n",
       "       [14, 11, 14, 17, 11],\n",
       "       [12, 14, 12, 11, 15],\n",
       "       [11, 15, 16, 14, 17],\n",
       "       [19, 11, 16, 11, 19]])"
      ]
     },
     "execution_count": 41,
     "metadata": {},
     "output_type": "execute_result"
    }
   ],
   "source": [
    "n8"
   ]
  },
  {
   "cell_type": "code",
   "execution_count": 1,
   "id": "fd3cbdde-ff97-4eb5-a931-c0f7fe424ab7",
   "metadata": {},
   "outputs": [
    {
     "ename": "NameError",
     "evalue": "name 'n8' is not defined",
     "output_type": "error",
     "traceback": [
      "\u001b[1;31m---------------------------------------------------------------------------\u001b[0m",
      "\u001b[1;31mNameError\u001b[0m                                 Traceback (most recent call last)",
      "Cell \u001b[1;32mIn[1], line 2\u001b[0m\n\u001b[0;32m      1\u001b[0m \u001b[38;5;66;03m# Scalar Addition\u001b[39;00m\n\u001b[1;32m----> 2\u001b[0m n8\u001b[38;5;241m+\u001b[39m\u001b[38;5;241m1\u001b[39m\n",
      "\u001b[1;31mNameError\u001b[0m: name 'n8' is not defined"
     ]
    }
   ],
   "source": [
    "# Scalar Addition\n",
    "n8+1"
   ]
  },
  {
   "cell_type": "code",
   "execution_count": 45,
   "id": "289c7f1b-de24-4f02-bf24-286b94dfc395",
   "metadata": {},
   "outputs": [
    {
     "data": {
      "text/plain": [
       "array([[26, 22, 32, 22, 26],\n",
       "       [28, 22, 28, 34, 22],\n",
       "       [24, 28, 24, 22, 30],\n",
       "       [22, 30, 32, 28, 34],\n",
       "       [38, 22, 32, 22, 38]])"
      ]
     },
     "execution_count": 45,
     "metadata": {},
     "output_type": "execute_result"
    }
   ],
   "source": [
    "n8*2"
   ]
  },
  {
   "cell_type": "code",
   "execution_count": 47,
   "id": "48d091a9-53b1-4ec9-9f75-648c33477700",
   "metadata": {},
   "outputs": [
    {
     "data": {
      "text/plain": [
       "344"
      ]
     },
     "execution_count": 47,
     "metadata": {},
     "output_type": "execute_result"
    }
   ],
   "source": [
    "np.sum(n8)"
   ]
  },
  {
   "cell_type": "code",
   "execution_count": 7,
   "id": "2c0a6b12-74d1-459d-ae49-9b9bd77bb714",
   "metadata": {},
   "outputs": [],
   "source": [
    "a=np.array([1,2,3,4,5])\n",
    "b=np.array([6,7,3,4,5])"
   ]
  },
  {
   "cell_type": "code",
   "execution_count": 55,
   "id": "50be0f8e-5982-4483-be08-85e338a7eff7",
   "metadata": {},
   "outputs": [
    {
     "data": {
      "text/plain": [
       "40"
      ]
     },
     "execution_count": 55,
     "metadata": {},
     "output_type": "execute_result"
    }
   ],
   "source": [
    "np.sum([a,b])"
   ]
  },
  {
   "cell_type": "code",
   "execution_count": 57,
   "id": "414daf13-578f-4691-8704-e60fd8a69f49",
   "metadata": {},
   "outputs": [
    {
     "data": {
      "text/plain": [
       "array([ 7,  9,  6,  8, 10])"
      ]
     },
     "execution_count": 57,
     "metadata": {},
     "output_type": "execute_result"
    }
   ],
   "source": [
    "np.sum([a,b,], axis=0)"
   ]
  },
  {
   "cell_type": "code",
   "execution_count": 59,
   "id": "cc18c33e-c9b9-4241-b823-8926a9e61c96",
   "metadata": {},
   "outputs": [
    {
     "data": {
      "text/plain": [
       "array([15, 25])"
      ]
     },
     "execution_count": 59,
     "metadata": {},
     "output_type": "execute_result"
    }
   ],
   "source": [
    "np.sum([a,b], axis=1)"
   ]
  },
  {
   "cell_type": "code",
   "execution_count": 63,
   "id": "ac9e7978-2eea-4212-821f-c8ca28547bf5",
   "metadata": {},
   "outputs": [
    {
     "name": "stdout",
     "output_type": "stream",
     "text": [
      "[[13 11 16 11 13]\n",
      " [14 11 14 17 11]\n",
      " [12 14 12 11 15]\n",
      " [11 15 16 14 17]\n",
      " [19 11 16 11 19]]\n"
     ]
    },
    {
     "data": {
      "text/plain": [
       "array([69, 62, 74, 64, 75])"
      ]
     },
     "execution_count": 63,
     "metadata": {},
     "output_type": "execute_result"
    }
   ],
   "source": [
    "print(n8)\n",
    "np.sum(n8, axis=0)"
   ]
  },
  {
   "cell_type": "code",
   "execution_count": 65,
   "id": "809eeb2b-5e1c-4215-ab86-01c2b25f1a1e",
   "metadata": {},
   "outputs": [
    {
     "name": "stdout",
     "output_type": "stream",
     "text": [
      "[[13 11 16 11 13]\n",
      " [14 11 14 17 11]\n",
      " [12 14 12 11 15]\n",
      " [11 15 16 14 17]\n",
      " [19 11 16 11 19]]\n"
     ]
    },
    {
     "data": {
      "text/plain": [
       "array([64, 67, 64, 73, 76])"
      ]
     },
     "execution_count": 65,
     "metadata": {},
     "output_type": "execute_result"
    }
   ],
   "source": [
    "print(n8)\n",
    "np.sum(n8, axis=1)"
   ]
  },
  {
   "cell_type": "code",
   "execution_count": 67,
   "id": "900efd93-43cd-4829-b9f2-430479435bf3",
   "metadata": {},
   "outputs": [
    {
     "data": {
      "text/plain": [
       "13.76"
      ]
     },
     "execution_count": 67,
     "metadata": {},
     "output_type": "execute_result"
    }
   ],
   "source": [
    "np.mean(n8)"
   ]
  },
  {
   "cell_type": "code",
   "execution_count": 69,
   "id": "f2ff8ffe-f4ba-480b-8828-d2e2c0349ef2",
   "metadata": {},
   "outputs": [
    {
     "data": {
      "text/plain": [
       "array([13.8, 12.4, 14.8, 12.8, 15. ])"
      ]
     },
     "execution_count": 69,
     "metadata": {},
     "output_type": "execute_result"
    }
   ],
   "source": [
    "np.mean(n8, axis=0)"
   ]
  },
  {
   "cell_type": "code",
   "execution_count": 71,
   "id": "245a43b0-506b-4961-9c66-80d104d5f874",
   "metadata": {},
   "outputs": [
    {
     "data": {
      "text/plain": [
       "array([12.8, 13.4, 12.8, 14.6, 15.2])"
      ]
     },
     "execution_count": 71,
     "metadata": {},
     "output_type": "execute_result"
    }
   ],
   "source": [
    "np.mean(n8, axis=1)"
   ]
  },
  {
   "cell_type": "code",
   "execution_count": 73,
   "id": "86d15afa-9ec6-4765-a594-3c97d0f0abe6",
   "metadata": {},
   "outputs": [
    {
     "data": {
      "text/plain": [
       "14.0"
      ]
     },
     "execution_count": 73,
     "metadata": {},
     "output_type": "execute_result"
    }
   ],
   "source": [
    "np.median(n8)"
   ]
  },
  {
   "cell_type": "code",
   "execution_count": 75,
   "id": "9a1df501-7fef-4b58-8dea-bd82caff4ac4",
   "metadata": {},
   "outputs": [
    {
     "data": {
      "text/plain": [
       "array([13., 11., 16., 11., 15.])"
      ]
     },
     "execution_count": 75,
     "metadata": {},
     "output_type": "execute_result"
    }
   ],
   "source": [
    "np.median(n8, axis=0)"
   ]
  },
  {
   "cell_type": "code",
   "execution_count": 77,
   "id": "64ed1c20-b0ae-4d97-80cb-9dba058d4025",
   "metadata": {},
   "outputs": [
    {
     "data": {
      "text/plain": [
       "2.5499803920814763"
      ]
     },
     "execution_count": 77,
     "metadata": {},
     "output_type": "execute_result"
    }
   ],
   "source": [
    "np.std(n8)"
   ]
  },
  {
   "cell_type": "code",
   "execution_count": 79,
   "id": "8adf8e68-0c94-4c3f-889a-f02ef5a20d0a",
   "metadata": {},
   "outputs": [
    {
     "name": "stdout",
     "output_type": "stream",
     "text": [
      "[1 2 3 4 5]\n",
      "[6 7 3 4 5]\n"
     ]
    }
   ],
   "source": [
    "print(a)\n",
    "print(b)"
   ]
  },
  {
   "cell_type": "code",
   "execution_count": 81,
   "id": "56b194f0-30b7-4416-bd5e-7776aadeae9a",
   "metadata": {},
   "outputs": [
    {
     "data": {
      "text/plain": [
       "array([False, False,  True,  True,  True])"
      ]
     },
     "execution_count": 81,
     "metadata": {},
     "output_type": "execute_result"
    }
   ],
   "source": [
    "np.equal(a,b)"
   ]
  },
  {
   "cell_type": "code",
   "execution_count": 85,
   "id": "3869c400-6742-466c-8fe2-268b5dc8744e",
   "metadata": {},
   "outputs": [
    {
     "data": {
      "text/plain": [
       "False"
      ]
     },
     "execution_count": 85,
     "metadata": {},
     "output_type": "execute_result"
    }
   ],
   "source": [
    "np.array_equal(a,b)"
   ]
  },
  {
   "cell_type": "code",
   "execution_count": 87,
   "id": "6d05c2c1-b827-48cf-808d-414ec89dcd0f",
   "metadata": {},
   "outputs": [],
   "source": [
    "c=np.array([1,2,3,4,5])"
   ]
  },
  {
   "cell_type": "code",
   "execution_count": 89,
   "id": "565e14a7-e244-4e4f-9a24-205a8484312e",
   "metadata": {},
   "outputs": [
    {
     "data": {
      "text/plain": [
       "True"
      ]
     },
     "execution_count": 89,
     "metadata": {},
     "output_type": "execute_result"
    }
   ],
   "source": [
    "np.array_equal(a,c)"
   ]
  },
  {
   "cell_type": "code",
   "execution_count": 9,
   "id": "8409f50d-88ae-4642-8e0d-b275a4a086bb",
   "metadata": {},
   "outputs": [
    {
     "name": "stdout",
     "output_type": "stream",
     "text": [
      "[1 2 3 4 5]\n",
      "[6 7 3 4 5]\n"
     ]
    }
   ],
   "source": [
    "print(a)\n",
    "print(b)"
   ]
  },
  {
   "cell_type": "code",
   "execution_count": 13,
   "id": "d9b8a31a-f2cd-46ca-b74a-2c42cf643106",
   "metadata": {},
   "outputs": [
    {
     "data": {
      "text/plain": [
       "array([1, 2, 3, 4, 5, 6, 7, 3, 4, 5])"
      ]
     },
     "execution_count": 13,
     "metadata": {},
     "output_type": "execute_result"
    }
   ],
   "source": [
    "np.concatenate((a,b))"
   ]
  },
  {
   "cell_type": "code",
   "execution_count": 17,
   "id": "fb94dbbd-4bb5-4ebc-9fb8-66503bd42df5",
   "metadata": {},
   "outputs": [
    {
     "data": {
      "text/plain": [
       "array([[1, 2, 3, 4, 5],\n",
       "       [6, 7, 3, 4, 5]])"
      ]
     },
     "execution_count": 17,
     "metadata": {},
     "output_type": "execute_result"
    }
   ],
   "source": [
    "np.vstack((a,b))"
   ]
  },
  {
   "cell_type": "code",
   "execution_count": 19,
   "id": "5cbb7bfa-f235-4bbe-ac80-337e8a5fb986",
   "metadata": {},
   "outputs": [
    {
     "data": {
      "text/plain": [
       "array([1, 2, 3, 4, 5, 6, 7, 3, 4, 5])"
      ]
     },
     "execution_count": 19,
     "metadata": {},
     "output_type": "execute_result"
    }
   ],
   "source": [
    "np.hstack((a,b))"
   ]
  },
  {
   "cell_type": "code",
   "execution_count": 21,
   "id": "23b72dd0-4d07-40cd-81fa-2c1c28afa1b4",
   "metadata": {},
   "outputs": [
    {
     "data": {
      "text/plain": [
       "array([[1, 6],\n",
       "       [2, 7],\n",
       "       [3, 3],\n",
       "       [4, 4],\n",
       "       [5, 5]])"
      ]
     },
     "execution_count": 21,
     "metadata": {},
     "output_type": "execute_result"
    }
   ],
   "source": [
    "np.column_stack((a,b))"
   ]
  },
  {
   "cell_type": "code",
   "execution_count": 23,
   "id": "180ce704-2d37-427e-9113-30cc47c2983a",
   "metadata": {},
   "outputs": [
    {
     "data": {
      "text/plain": [
       "array([[1, 2, 3, 4, 5],\n",
       "       [6, 7, 3, 4, 5]])"
      ]
     },
     "execution_count": 23,
     "metadata": {},
     "output_type": "execute_result"
    }
   ],
   "source": [
    "np.row_stack((a,b))"
   ]
  },
  {
   "cell_type": "code",
   "execution_count": 27,
   "id": "4dde494f-2e0c-4578-89f4-e60bfcbe21be",
   "metadata": {},
   "outputs": [
    {
     "data": {
      "text/plain": [
       "array([3, 4, 5])"
      ]
     },
     "execution_count": 27,
     "metadata": {},
     "output_type": "execute_result"
    }
   ],
   "source": [
    "np.intersect1d(a,b)"
   ]
  },
  {
   "cell_type": "code",
   "execution_count": 29,
   "id": "e7b87689-8e97-4ae9-96fa-8c67a8d5e90f",
   "metadata": {},
   "outputs": [
    {
     "data": {
      "text/plain": [
       "array([1, 2])"
      ]
     },
     "execution_count": 29,
     "metadata": {},
     "output_type": "execute_result"
    }
   ],
   "source": [
    "np.setdiff1d(a,b)"
   ]
  },
  {
   "cell_type": "code",
   "execution_count": 31,
   "id": "215ea1ef-a623-4b9f-94be-5386d8953898",
   "metadata": {},
   "outputs": [
    {
     "name": "stdout",
     "output_type": "stream",
     "text": [
      "[1 2 3 4 5]\n",
      "[6 7 3 4 5]\n"
     ]
    }
   ],
   "source": [
    "print(a)\n",
    "print(b)"
   ]
  },
  {
   "cell_type": "code",
   "execution_count": 33,
   "id": "cc38cbbb-1fca-4549-b7fe-0a12448fce75",
   "metadata": {},
   "outputs": [
    {
     "data": {
      "text/plain": [
       "array([6, 7])"
      ]
     },
     "execution_count": 33,
     "metadata": {},
     "output_type": "execute_result"
    }
   ],
   "source": [
    "np.setdiff1d(b,a)"
   ]
  },
  {
   "cell_type": "code",
   "execution_count": 37,
   "id": "6f8fb6d7-af85-4430-809b-b0086951e019",
   "metadata": {},
   "outputs": [],
   "source": [
    "np.save('arr1',n8)"
   ]
  },
  {
   "cell_type": "code",
   "execution_count": 39,
   "id": "a8bc1fdb-c63f-4c85-8de6-a5718fdd4f6d",
   "metadata": {},
   "outputs": [
    {
     "data": {
      "text/plain": [
       "array([[18, 17, 16, 18, 11],\n",
       "       [14, 13, 19, 15, 11],\n",
       "       [18, 12, 16, 12, 15],\n",
       "       [15, 14, 17, 17, 16],\n",
       "       [14, 18, 15, 15, 16]])"
      ]
     },
     "execution_count": 39,
     "metadata": {},
     "output_type": "execute_result"
    }
   ],
   "source": [
    "n11=np.load('arr1.npy')\n",
    "n11"
   ]
  },
  {
   "cell_type": "code",
   "execution_count": 41,
   "id": "2cfc74af-7d82-4cbc-b4e1-20a08b2d8049",
   "metadata": {},
   "outputs": [
    {
     "data": {
      "text/plain": [
       "array([[14, 13, 19, 15, 11],\n",
       "       [18, 12, 16, 12, 15]])"
      ]
     },
     "execution_count": 41,
     "metadata": {},
     "output_type": "execute_result"
    }
   ],
   "source": [
    "#slicing\n",
    "n11[1:3,:]"
   ]
  },
  {
   "cell_type": "code",
   "execution_count": 43,
   "id": "a88f5c89-cb15-4986-aedc-7520e5fa7834",
   "metadata": {},
   "outputs": [
    {
     "data": {
      "text/plain": [
       "array([[18, 11],\n",
       "       [15, 11],\n",
       "       [12, 15],\n",
       "       [17, 16],\n",
       "       [15, 16]])"
      ]
     },
     "execution_count": 43,
     "metadata": {},
     "output_type": "execute_result"
    }
   ],
   "source": [
    "n11[:,3:]"
   ]
  },
  {
   "cell_type": "code",
   "execution_count": 45,
   "id": "29091b68-d068-44ae-9c56-525c48b247a4",
   "metadata": {},
   "outputs": [
    {
     "data": {
      "text/plain": [
       "array([[18, 11],\n",
       "       [15, 11],\n",
       "       [12, 15],\n",
       "       [17, 16],\n",
       "       [15, 16]])"
      ]
     },
     "execution_count": 45,
     "metadata": {},
     "output_type": "execute_result"
    }
   ],
   "source": [
    "n11[:,-2:]"
   ]
  },
  {
   "cell_type": "code",
   "execution_count": 47,
   "id": "814c5627-c680-4989-bbc4-3ee51197aace",
   "metadata": {},
   "outputs": [
    {
     "data": {
      "text/plain": [
       "array([[18, 17, 16, 18, 11],\n",
       "       [14, 13, 19, 15, 11],\n",
       "       [18, 12, 16, 12, 15],\n",
       "       [15, 14, 17, 17, 16],\n",
       "       [14, 18, 15, 15, 16]])"
      ]
     },
     "execution_count": 47,
     "metadata": {},
     "output_type": "execute_result"
    }
   ],
   "source": [
    "n11"
   ]
  },
  {
   "cell_type": "code",
   "execution_count": 49,
   "id": "8e29c3ce-b480-47c7-81ed-8d0c56be3e8e",
   "metadata": {},
   "outputs": [
    {
     "data": {
      "text/plain": [
       "array([[18, 17],\n",
       "       [14, 13]])"
      ]
     },
     "execution_count": 49,
     "metadata": {},
     "output_type": "execute_result"
    }
   ],
   "source": [
    "n11[:2,:2]\n",
    "# array_name[start_row:end_row,start_column:end_column]"
   ]
  },
  {
   "cell_type": "code",
   "execution_count": 51,
   "id": "cf5bc21f-de11-4a27-9936-aff720af5b60",
   "metadata": {},
   "outputs": [
    {
     "data": {
      "text/plain": [
       "array([[18, 17, 16, 18, 11],\n",
       "       [14, 13, 19, 15, 11],\n",
       "       [18, 12, 16, 12, 15],\n",
       "       [15, 14, 17, 17, 16],\n",
       "       [14, 18, 15, 15, 16]])"
      ]
     },
     "execution_count": 51,
     "metadata": {},
     "output_type": "execute_result"
    }
   ],
   "source": [
    "n11"
   ]
  },
  {
   "cell_type": "code",
   "execution_count": 55,
   "id": "8141c35c-05c1-429f-a3df-ac2f69ab9ce3",
   "metadata": {},
   "outputs": [
    {
     "data": {
      "text/plain": [
       "array([[17, 16],\n",
       "       [15, 16]])"
      ]
     },
     "execution_count": 55,
     "metadata": {},
     "output_type": "execute_result"
    }
   ],
   "source": [
    "#n11[-2:,-2:]\n",
    "n11[3:,3:]\n"
   ]
  },
  {
   "cell_type": "code",
   "execution_count": 57,
   "id": "84225816-9c41-4c0c-ad1e-768a86f7b858",
   "metadata": {},
   "outputs": [
    {
     "data": {
      "text/plain": [
       "array([[18, 17, 16, 18, 11],\n",
       "       [14, 13, 19, 15, 11],\n",
       "       [18, 12, 16, 12, 15],\n",
       "       [15, 14, 17, 17, 16],\n",
       "       [14, 18, 15, 15, 16]])"
      ]
     },
     "execution_count": 57,
     "metadata": {},
     "output_type": "execute_result"
    }
   ],
   "source": [
    "n11"
   ]
  },
  {
   "cell_type": "code",
   "execution_count": 61,
   "id": "6fa8fb1b-3d19-47e9-a7a4-e6c4f0007ebe",
   "metadata": {},
   "outputs": [
    {
     "data": {
      "text/plain": [
       "array([[18, 11],\n",
       "       [15, 11]])"
      ]
     },
     "execution_count": 61,
     "metadata": {},
     "output_type": "execute_result"
    }
   ],
   "source": [
    "#n11[:2,3:]\n",
    "n11[:2,-2:]"
   ]
  },
  {
   "cell_type": "code",
   "execution_count": null,
   "id": "3b4fa668-70c7-4837-b05c-f9a763386dea",
   "metadata": {},
   "outputs": [],
   "source": []
  }
 ],
 "metadata": {
  "kernelspec": {
   "display_name": "Python 3 (ipykernel)",
   "language": "python",
   "name": "python3"
  },
  "language_info": {
   "codemirror_mode": {
    "name": "ipython",
    "version": 3
   },
   "file_extension": ".py",
   "mimetype": "text/x-python",
   "name": "python",
   "nbconvert_exporter": "python",
   "pygments_lexer": "ipython3",
   "version": "3.12.4"
  }
 },
 "nbformat": 4,
 "nbformat_minor": 5
}
