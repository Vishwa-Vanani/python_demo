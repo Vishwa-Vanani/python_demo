{
 "cells": [
  {
   "cell_type": "code",
   "execution_count": 1,
   "id": "4157ecc5-43b7-41b1-906a-b879b2ecfc97",
   "metadata": {},
   "outputs": [],
   "source": [
    "import numpy as np"
   ]
  },
  {
   "cell_type": "code",
   "execution_count": 5,
   "id": "bf14b9d1-d932-4565-a0f8-d2c455230ebe",
   "metadata": {},
   "outputs": [
    {
     "data": {
      "text/plain": [
       "array([], dtype=float64)"
      ]
     },
     "execution_count": 5,
     "metadata": {},
     "output_type": "execute_result"
    }
   ],
   "source": [
    "n1=np.array([])\n",
    "n1"
   ]
  },
  {
   "cell_type": "code",
   "execution_count": 7,
   "id": "111460c4-d4ba-4ad1-b802-299eaec3b7cc",
   "metadata": {},
   "outputs": [
    {
     "data": {
      "text/plain": [
       "array([ 1,  3,  5,  8, 10])"
      ]
     },
     "execution_count": 7,
     "metadata": {},
     "output_type": "execute_result"
    }
   ],
   "source": [
    "n1=np.array([1,3,5,8,10])\n",
    "n1"
   ]
  },
  {
   "cell_type": "code",
   "execution_count": 9,
   "id": "10439eac-2641-483d-bcb9-ff0285eb7c86",
   "metadata": {},
   "outputs": [
    {
     "data": {
      "text/plain": [
       "dtype('int32')"
      ]
     },
     "execution_count": 9,
     "metadata": {},
     "output_type": "execute_result"
    }
   ],
   "source": [
    "n1.dtype"
   ]
  },
  {
   "cell_type": "code",
   "execution_count": 13,
   "id": "c2a059b3-ea8c-476e-82d4-7768f165ac6c",
   "metadata": {},
   "outputs": [
    {
     "data": {
      "text/plain": [
       "array([5, 6, 7, 8, 9])"
      ]
     },
     "execution_count": 13,
     "metadata": {},
     "output_type": "execute_result"
    }
   ],
   "source": [
    "t1=(5,6,7,8,9)\n",
    "n2=np.array(t1)\n",
    "n2"
   ]
  },
  {
   "cell_type": "code",
   "execution_count": 15,
   "id": "8348d3d0-abc7-4346-b8e3-0090a88fc24f",
   "metadata": {},
   "outputs": [
    {
     "data": {
      "text/plain": [
       "array([[0., 0., 0.],\n",
       "       [0., 0., 0.],\n",
       "       [0., 0., 0.]])"
      ]
     },
     "execution_count": 15,
     "metadata": {},
     "output_type": "execute_result"
    }
   ],
   "source": [
    "n3=np.zeros((3,3))\n",
    "n3"
   ]
  },
  {
   "cell_type": "code",
   "execution_count": 17,
   "id": "656c1379-e8c4-4a95-9442-6a89965669fa",
   "metadata": {},
   "outputs": [
    {
     "data": {
      "text/plain": [
       "array([[1., 1., 1.],\n",
       "       [1., 1., 1.]])"
      ]
     },
     "execution_count": 17,
     "metadata": {},
     "output_type": "execute_result"
    }
   ],
   "source": [
    "n4=np.ones((2,3))\n",
    "n4"
   ]
  },
  {
   "cell_type": "code",
   "execution_count": 21,
   "id": "1689bdda-9f3e-4797-a4e0-9f75e81ee61c",
   "metadata": {},
   "outputs": [
    {
     "data": {
      "text/plain": [
       "array([[7, 7, 7],\n",
       "       [7, 7, 7],\n",
       "       [7, 7, 7]])"
      ]
     },
     "execution_count": 21,
     "metadata": {},
     "output_type": "execute_result"
    }
   ],
   "source": [
    "n5=np.full((3,3),7)\n",
    "n5"
   ]
  },
  {
   "cell_type": "code",
   "execution_count": 25,
   "id": "b3231c03-d798-4f78-bef4-602f50101511",
   "metadata": {},
   "outputs": [
    {
     "data": {
      "text/plain": [
       "array([[11, 12, 13],\n",
       "       [14, 15, 16],\n",
       "       [17, 18, 19]])"
      ]
     },
     "execution_count": 25,
     "metadata": {},
     "output_type": "execute_result"
    }
   ],
   "source": [
    "n6=np.arange(11,20).reshape(3,3)\n",
    "n6"
   ]
  },
  {
   "cell_type": "code",
   "execution_count": 35,
   "id": "7f4931bb-8fe5-4bcb-9d73-ecfc249ebdb5",
   "metadata": {},
   "outputs": [
    {
     "data": {
      "text/plain": [
       "array([[51, 72, 38],\n",
       "       [91, 60, 53],\n",
       "       [ 1, 31, 79],\n",
       "       [76, 55, 12],\n",
       "       [ 2, 88, 13]])"
      ]
     },
     "execution_count": 35,
     "metadata": {},
     "output_type": "execute_result"
    }
   ],
   "source": [
    "n7=np.random.randint(1,100,15).reshape(5,3)\n",
    "n7"
   ]
  },
  {
   "cell_type": "code",
   "execution_count": 37,
   "id": "71f8faf0-bffb-4ee1-a890-0b636e7c1c93",
   "metadata": {},
   "outputs": [
    {
     "data": {
      "text/plain": [
       "2"
      ]
     },
     "execution_count": 37,
     "metadata": {},
     "output_type": "execute_result"
    }
   ],
   "source": [
    "n7.ndim"
   ]
  },
  {
   "cell_type": "code",
   "execution_count": 39,
   "id": "1209e96e-5678-4fcb-bf96-951a7f5a76d0",
   "metadata": {},
   "outputs": [
    {
     "data": {
      "text/plain": [
       "15"
      ]
     },
     "execution_count": 39,
     "metadata": {},
     "output_type": "execute_result"
    }
   ],
   "source": [
    "n7.size"
   ]
  },
  {
   "cell_type": "code",
   "execution_count": 41,
   "id": "2dbd6449-67fb-4951-b6b9-822af9f447e4",
   "metadata": {},
   "outputs": [
    {
     "data": {
      "text/plain": [
       "(5, 3)"
      ]
     },
     "execution_count": 41,
     "metadata": {},
     "output_type": "execute_result"
    }
   ],
   "source": [
    "n7.shape"
   ]
  },
  {
   "cell_type": "code",
   "execution_count": 43,
   "id": "aa8d6cd5-1370-48dd-baca-5a58cda60b87",
   "metadata": {},
   "outputs": [
    {
     "data": {
      "text/plain": [
       "array([221, 306, 195])"
      ]
     },
     "execution_count": 43,
     "metadata": {},
     "output_type": "execute_result"
    }
   ],
   "source": [
    "sum(n7)"
   ]
  },
  {
   "cell_type": "code",
   "execution_count": 51,
   "id": "7d8efd39-9bc6-43b6-8e57-d8cf7bb4e222",
   "metadata": {},
   "outputs": [
    {
     "data": {
      "text/plain": [
       "91"
      ]
     },
     "execution_count": 51,
     "metadata": {},
     "output_type": "execute_result"
    }
   ],
   "source": [
    "n7.max()"
   ]
  },
  {
   "cell_type": "code",
   "execution_count": 53,
   "id": "0a29aeac-406c-4e43-9cfb-ae2cf4b00bca",
   "metadata": {},
   "outputs": [
    {
     "data": {
      "text/plain": [
       "1"
      ]
     },
     "execution_count": 53,
     "metadata": {},
     "output_type": "execute_result"
    }
   ],
   "source": [
    "n7.min()"
   ]
  },
  {
   "cell_type": "code",
   "execution_count": 13,
   "id": "1c06e720-e989-49f6-bc05-20902c5fc795",
   "metadata": {},
   "outputs": [
    {
     "data": {
      "text/plain": [
       "array([[11., 14.],\n",
       "       [17., 20.]])"
      ]
     },
     "execution_count": 13,
     "metadata": {},
     "output_type": "execute_result"
    }
   ],
   "source": [
    "#n8=np.linspace(11,20,4).reshape(2,2)\n",
    "n8=np.linspace(11,20,4)\n",
    "n8.shape=(2,2)\n",
    "n8"
   ]
  },
  {
   "cell_type": "code",
   "execution_count": 15,
   "id": "5c80fe8f-619e-4ea4-a896-3f36cfee41e4",
   "metadata": {},
   "outputs": [
    {
     "data": {
      "text/plain": [
       "array([16, 15, 12, 15, 14, 15])"
      ]
     },
     "execution_count": 15,
     "metadata": {},
     "output_type": "execute_result"
    }
   ],
   "source": [
    "# scalar oprations\n",
    "n9=np.random.randint(11,20,6)\n",
    "n9"
   ]
  },
  {
   "cell_type": "code",
   "execution_count": 17,
   "id": "e8289ad5-5778-466c-9bb6-ef8d64ced0c7",
   "metadata": {},
   "outputs": [
    {
     "data": {
      "text/plain": [
       "array([18, 17, 14, 17, 16, 17])"
      ]
     },
     "execution_count": 17,
     "metadata": {},
     "output_type": "execute_result"
    }
   ],
   "source": [
    "n9+2"
   ]
  },
  {
   "cell_type": "code",
   "execution_count": 19,
   "id": "c533a7a2-53ce-4f97-b63e-ecae9788cc77",
   "metadata": {},
   "outputs": [
    {
     "data": {
      "text/plain": [
       "array([32, 30, 24, 30, 28, 30])"
      ]
     },
     "execution_count": 19,
     "metadata": {},
     "output_type": "execute_result"
    }
   ],
   "source": [
    "n9*2"
   ]
  },
  {
   "cell_type": "code",
   "execution_count": 21,
   "id": "07dc49c5-07a7-41a1-a188-8f225f3f3a20",
   "metadata": {},
   "outputs": [
    {
     "data": {
      "text/plain": [
       "array([14, 13, 10, 13, 12, 13])"
      ]
     },
     "execution_count": 21,
     "metadata": {},
     "output_type": "execute_result"
    }
   ],
   "source": [
    "n9-2"
   ]
  },
  {
   "cell_type": "code",
   "execution_count": 23,
   "id": "d1285feb-2a48-46ce-be02-52d713b079eb",
   "metadata": {},
   "outputs": [
    {
     "data": {
      "text/plain": [
       "array([[16, 15],\n",
       "       [12, 15],\n",
       "       [14, 15]])"
      ]
     },
     "execution_count": 23,
     "metadata": {},
     "output_type": "execute_result"
    }
   ],
   "source": [
    "n9.shape=(3,2)\n",
    "n9"
   ]
  },
  {
   "cell_type": "code",
   "execution_count": 25,
   "id": "b980fbc1-ff50-40e8-a2bc-9b979888133d",
   "metadata": {},
   "outputs": [
    {
     "data": {
      "text/plain": [
       "87"
      ]
     },
     "execution_count": 25,
     "metadata": {},
     "output_type": "execute_result"
    }
   ],
   "source": [
    "np.sum(n9)"
   ]
  },
  {
   "cell_type": "code",
   "execution_count": 27,
   "id": "e8ab9702-79c9-4f98-990c-8bb8bc24ec63",
   "metadata": {},
   "outputs": [
    {
     "data": {
      "text/plain": [
       "array([42, 45])"
      ]
     },
     "execution_count": 27,
     "metadata": {},
     "output_type": "execute_result"
    }
   ],
   "source": [
    "np.sum(n9, axis=0)"
   ]
  },
  {
   "cell_type": "code",
   "execution_count": 29,
   "id": "e434b554-51b1-4c94-9580-15eb78175b67",
   "metadata": {},
   "outputs": [
    {
     "data": {
      "text/plain": [
       "array([31, 27, 29])"
      ]
     },
     "execution_count": 29,
     "metadata": {},
     "output_type": "execute_result"
    }
   ],
   "source": [
    "np.sum(n9, axis=1)"
   ]
  },
  {
   "cell_type": "code",
   "execution_count": 31,
   "id": "679e163c-37a3-4b16-a4f3-2af3af9a4cd3",
   "metadata": {},
   "outputs": [
    {
     "data": {
      "text/plain": [
       "14.5"
      ]
     },
     "execution_count": 31,
     "metadata": {},
     "output_type": "execute_result"
    }
   ],
   "source": [
    "np.mean(n9)"
   ]
  },
  {
   "cell_type": "code",
   "execution_count": 33,
   "id": "87a61cbb-0c25-4bd3-a91a-da66c2a727e7",
   "metadata": {},
   "outputs": [
    {
     "data": {
      "text/plain": [
       "array([14., 15.])"
      ]
     },
     "execution_count": 33,
     "metadata": {},
     "output_type": "execute_result"
    }
   ],
   "source": [
    "np.mean(n9, axis=0)"
   ]
  },
  {
   "cell_type": "code",
   "execution_count": 35,
   "id": "bb4f5a5f-6ba0-4fac-8153-c50b1550d50c",
   "metadata": {},
   "outputs": [
    {
     "data": {
      "text/plain": [
       "array([15.5, 13.5, 14.5])"
      ]
     },
     "execution_count": 35,
     "metadata": {},
     "output_type": "execute_result"
    }
   ],
   "source": [
    "np.mean(n9, axis=1)"
   ]
  },
  {
   "cell_type": "code",
   "execution_count": 37,
   "id": "19261d46-8723-4a2b-8d8f-dc3b1241ea97",
   "metadata": {},
   "outputs": [
    {
     "data": {
      "text/plain": [
       "15.0"
      ]
     },
     "execution_count": 37,
     "metadata": {},
     "output_type": "execute_result"
    }
   ],
   "source": [
    "np.median(n9)"
   ]
  },
  {
   "cell_type": "code",
   "execution_count": 39,
   "id": "2924bf39-677f-421e-acd4-14ad246be17b",
   "metadata": {},
   "outputs": [
    {
     "data": {
      "text/plain": [
       "1.2583057392117916"
      ]
     },
     "execution_count": 39,
     "metadata": {},
     "output_type": "execute_result"
    }
   ],
   "source": [
    "np.std(n9)"
   ]
  },
  {
   "cell_type": "code",
   "execution_count": 47,
   "id": "cb9c194a-0180-4db4-8a1e-1359d0e1a63b",
   "metadata": {},
   "outputs": [],
   "source": [
    "a=np.array([1,2,3,4,5])\n",
    "b=np.array([1,2,6,7,8])"
   ]
  },
  {
   "cell_type": "code",
   "execution_count": 49,
   "id": "eadb2899-331c-4e2f-b840-a9e78b53a4fc",
   "metadata": {},
   "outputs": [
    {
     "data": {
      "text/plain": [
       "array([ True,  True, False, False, False])"
      ]
     },
     "execution_count": 49,
     "metadata": {},
     "output_type": "execute_result"
    }
   ],
   "source": [
    "np.equal(a,b)"
   ]
  },
  {
   "cell_type": "code",
   "execution_count": 51,
   "id": "dca0085d-9ca8-4a80-b2e7-82b0ba9bc91f",
   "metadata": {},
   "outputs": [
    {
     "data": {
      "text/plain": [
       "False"
      ]
     },
     "execution_count": 51,
     "metadata": {},
     "output_type": "execute_result"
    }
   ],
   "source": [
    "np.array_equal(a,b)"
   ]
  },
  {
   "cell_type": "code",
   "execution_count": 53,
   "id": "1f82a046-de74-457b-b302-a6ef2482cb50",
   "metadata": {},
   "outputs": [],
   "source": [
    "c=np.array([1,2,3,4,5])"
   ]
  },
  {
   "cell_type": "code",
   "execution_count": 55,
   "id": "b33ef6a1-ce01-45a8-bea4-2e5c8fd0e38b",
   "metadata": {},
   "outputs": [
    {
     "data": {
      "text/plain": [
       "True"
      ]
     },
     "execution_count": 55,
     "metadata": {},
     "output_type": "execute_result"
    }
   ],
   "source": [
    "np.array_equal(a,c)"
   ]
  },
  {
   "cell_type": "code",
   "execution_count": 57,
   "id": "90d6eb96-12e9-4b36-951c-21f8c3c3bae9",
   "metadata": {},
   "outputs": [
    {
     "name": "stdout",
     "output_type": "stream",
     "text": [
      "[1 2 3 4 5]\n",
      "[1 2 6 7 8]\n"
     ]
    }
   ],
   "source": [
    "print(a)\n",
    "print(b)"
   ]
  },
  {
   "cell_type": "code",
   "execution_count": 59,
   "id": "21bcd70b-20df-4725-95f0-f17a232e681c",
   "metadata": {},
   "outputs": [
    {
     "data": {
      "text/plain": [
       "array([[1, 2, 3, 4, 5],\n",
       "       [1, 2, 6, 7, 8]])"
      ]
     },
     "execution_count": 59,
     "metadata": {},
     "output_type": "execute_result"
    }
   ],
   "source": [
    "np.vstack((a,b))"
   ]
  },
  {
   "cell_type": "code",
   "execution_count": 61,
   "id": "3445ba02-bfba-41a4-bf5d-f034d12e2a9e",
   "metadata": {},
   "outputs": [
    {
     "data": {
      "text/plain": [
       "array([1, 2, 3, 4, 5, 1, 2, 6, 7, 8])"
      ]
     },
     "execution_count": 61,
     "metadata": {},
     "output_type": "execute_result"
    }
   ],
   "source": [
    "np.hstack((a,b))"
   ]
  },
  {
   "cell_type": "code",
   "execution_count": 89,
   "id": "d52c55f9-a3e7-4791-a2e1-66ad905d0596",
   "metadata": {},
   "outputs": [
    {
     "data": {
      "text/plain": [
       "array([1, 2, 3, 4, 5, 1, 2, 6, 7, 8])"
      ]
     },
     "execution_count": 89,
     "metadata": {},
     "output_type": "execute_result"
    }
   ],
   "source": [
    "#np.column_stack((a,b))\n",
    "#np.row_stack((a,b))\n",
    "np.concatenate((a,b))"
   ]
  },
  {
   "cell_type": "code",
   "execution_count": 65,
   "id": "dc2f6454-5ae5-4b15-a31e-98e6ab3f85bf",
   "metadata": {},
   "outputs": [
    {
     "data": {
      "text/plain": [
       "array([1, 2])"
      ]
     },
     "execution_count": 65,
     "metadata": {},
     "output_type": "execute_result"
    }
   ],
   "source": [
    "np.intersect1d(a,b)"
   ]
  },
  {
   "cell_type": "code",
   "execution_count": 67,
   "id": "e8bcb98e-2cf7-4ed0-b066-49337df2ba26",
   "metadata": {},
   "outputs": [
    {
     "data": {
      "text/plain": [
       "array([3, 4, 5])"
      ]
     },
     "execution_count": 67,
     "metadata": {},
     "output_type": "execute_result"
    }
   ],
   "source": [
    "np.setdiff1d(a,b)"
   ]
  },
  {
   "cell_type": "code",
   "execution_count": 69,
   "id": "818fc14b-fde9-4012-9ab8-a38c622db290",
   "metadata": {},
   "outputs": [
    {
     "data": {
      "text/plain": [
       "array([6, 7, 8])"
      ]
     },
     "execution_count": 69,
     "metadata": {},
     "output_type": "execute_result"
    }
   ],
   "source": [
    "np.setdiff1d(b,a)"
   ]
  },
  {
   "cell_type": "code",
   "execution_count": 71,
   "id": "2b6817bd-d1f5-4ab6-ae04-ac3d23e041f9",
   "metadata": {},
   "outputs": [],
   "source": [
    "np.save('my_arr1',n9)"
   ]
  },
  {
   "cell_type": "code",
   "execution_count": 73,
   "id": "d97b6f63-7e11-4558-a747-242639464738",
   "metadata": {},
   "outputs": [
    {
     "data": {
      "text/plain": [
       "array([[16, 15],\n",
       "       [12, 15],\n",
       "       [14, 15]])"
      ]
     },
     "execution_count": 73,
     "metadata": {},
     "output_type": "execute_result"
    }
   ],
   "source": [
    "n10=np.load('my_arr1.npy')\n",
    "n10"
   ]
  },
  {
   "cell_type": "code",
   "execution_count": null,
   "id": "0802e422-a90e-419e-a32f-d7abd5947350",
   "metadata": {},
   "outputs": [],
   "source": []
  }
 ],
 "metadata": {
  "kernelspec": {
   "display_name": "Python 3 (ipykernel)",
   "language": "python",
   "name": "python3"
  },
  "language_info": {
   "codemirror_mode": {
    "name": "ipython",
    "version": 3
   },
   "file_extension": ".py",
   "mimetype": "text/x-python",
   "name": "python",
   "nbconvert_exporter": "python",
   "pygments_lexer": "ipython3",
   "version": "3.12.4"
  }
 },
 "nbformat": 4,
 "nbformat_minor": 5
}
