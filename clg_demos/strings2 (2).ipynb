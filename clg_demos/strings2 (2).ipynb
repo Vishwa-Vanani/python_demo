{
 "cells": [
  {
   "cell_type": "code",
   "execution_count": 1,
   "id": "40676ede-03bb-45fc-b1ee-124cf33ab9e8",
   "metadata": {},
   "outputs": [
    {
     "data": {
      "text/plain": [
       "'This is string'"
      ]
     },
     "execution_count": 1,
     "metadata": {},
     "output_type": "execute_result"
    }
   ],
   "source": [
    "str='This is string'\n",
    "str"
   ]
  },
  {
   "cell_type": "code",
   "execution_count": 3,
   "id": "1e9cffe7-3453-4ad6-b466-f263782f669b",
   "metadata": {},
   "outputs": [
    {
     "data": {
      "text/plain": [
       "'This is also string'"
      ]
     },
     "execution_count": 3,
     "metadata": {},
     "output_type": "execute_result"
    }
   ],
   "source": [
    "str2=\"This is also string\"\n",
    "str2"
   ]
  },
  {
   "cell_type": "code",
   "execution_count": 7,
   "id": "067fdfac-5a3e-4e22-835b-8b6af9252aa2",
   "metadata": {},
   "outputs": [
    {
     "data": {
      "text/plain": [
       "\"It's my Birthday\""
      ]
     },
     "execution_count": 7,
     "metadata": {},
     "output_type": "execute_result"
    }
   ],
   "source": [
    "msg=\"It's my Birthday\"\n",
    "msg"
   ]
  },
  {
   "cell_type": "code",
   "execution_count": 9,
   "id": "a7601f08-1201-429f-a3b1-00cfb949e183",
   "metadata": {},
   "outputs": [
    {
     "data": {
      "text/plain": [
       "'I'"
      ]
     },
     "execution_count": 9,
     "metadata": {},
     "output_type": "execute_result"
    }
   ],
   "source": [
    "msg[0]"
   ]
  },
  {
   "cell_type": "code",
   "execution_count": 15,
   "id": "c63e00e9-e0ec-4846-9828-7edabde538f4",
   "metadata": {},
   "outputs": [
    {
     "data": {
      "text/plain": [
       "'B'"
      ]
     },
     "execution_count": 15,
     "metadata": {},
     "output_type": "execute_result"
    }
   ],
   "source": [
    "msg[8]"
   ]
  },
  {
   "cell_type": "code",
   "execution_count": 17,
   "id": "6a81589e-0462-4e66-abcd-84408903944d",
   "metadata": {},
   "outputs": [
    {
     "data": {
      "text/plain": [
       "8"
      ]
     },
     "execution_count": 17,
     "metadata": {},
     "output_type": "execute_result"
    }
   ],
   "source": [
    "msg.index('B')"
   ]
  },
  {
   "cell_type": "code",
   "execution_count": 19,
   "id": "f9f0a974-c415-48a6-9c72-eac84c6cd5eb",
   "metadata": {},
   "outputs": [
    {
     "data": {
      "text/plain": [
       "6"
      ]
     },
     "execution_count": 19,
     "metadata": {},
     "output_type": "execute_result"
    }
   ],
   "source": [
    "msg.index('y')"
   ]
  },
  {
   "cell_type": "code",
   "execution_count": 21,
   "id": "74344a59-d26a-4fac-9ad7-65e56183d319",
   "metadata": {},
   "outputs": [
    {
     "data": {
      "text/plain": [
       "\"It's my Birthday\""
      ]
     },
     "execution_count": 21,
     "metadata": {},
     "output_type": "execute_result"
    }
   ],
   "source": [
    "msg"
   ]
  },
  {
   "cell_type": "code",
   "execution_count": 23,
   "id": "69275486-47d1-4ffd-89de-6a4a36f69b94",
   "metadata": {},
   "outputs": [
    {
     "data": {
      "text/plain": [
       "'It'"
      ]
     },
     "execution_count": 23,
     "metadata": {},
     "output_type": "execute_result"
    }
   ],
   "source": [
    "# [start:end]\n",
    "msg[0:2]"
   ]
  },
  {
   "cell_type": "code",
   "execution_count": 27,
   "id": "debed889-6d6f-4328-b092-c9339f374692",
   "metadata": {},
   "outputs": [
    {
     "data": {
      "text/plain": [
       "'my'"
      ]
     },
     "execution_count": 27,
     "metadata": {},
     "output_type": "execute_result"
    }
   ],
   "source": [
    "msg[5:7]"
   ]
  },
  {
   "cell_type": "code",
   "execution_count": 31,
   "id": "7a1913b6-b99f-4e57-a5bd-e2b53bfa438a",
   "metadata": {},
   "outputs": [
    {
     "data": {
      "text/plain": [
       "'Birthday'"
      ]
     },
     "execution_count": 31,
     "metadata": {},
     "output_type": "execute_result"
    }
   ],
   "source": [
    "msg[8:16]"
   ]
  },
  {
   "cell_type": "code",
   "execution_count": 33,
   "id": "920d5c03-7c9b-4997-b6a7-0fd2828b1244",
   "metadata": {},
   "outputs": [
    {
     "data": {
      "text/plain": [
       "\"It's my Birthday\""
      ]
     },
     "execution_count": 33,
     "metadata": {},
     "output_type": "execute_result"
    }
   ],
   "source": [
    "msg"
   ]
  },
  {
   "cell_type": "code",
   "execution_count": 35,
   "id": "022da7c7-8395-4aad-8036-fb02942fb8ea",
   "metadata": {},
   "outputs": [
    {
     "data": {
      "text/plain": [
       "'Birthday'"
      ]
     },
     "execution_count": 35,
     "metadata": {},
     "output_type": "execute_result"
    }
   ],
   "source": [
    "msg[8:]"
   ]
  },
  {
   "cell_type": "code",
   "execution_count": 37,
   "id": "6d5c5821-002a-423f-8d5b-8cd16b33c4fc",
   "metadata": {},
   "outputs": [
    {
     "data": {
      "text/plain": [
       "\"It's \""
      ]
     },
     "execution_count": 37,
     "metadata": {},
     "output_type": "execute_result"
    }
   ],
   "source": [
    "msg[:5]"
   ]
  },
  {
   "cell_type": "code",
   "execution_count": 39,
   "id": "e98ebf43-92bc-4998-be6e-d60c0b0e61de",
   "metadata": {},
   "outputs": [
    {
     "data": {
      "text/plain": [
       "\"I' yBrha\""
      ]
     },
     "execution_count": 39,
     "metadata": {},
     "output_type": "execute_result"
    }
   ],
   "source": [
    "# [start:end:skip]\n",
    "msg[::2]"
   ]
  },
  {
   "cell_type": "code",
   "execution_count": 43,
   "id": "bd0dd1b3-4ed1-4c70-9087-d646cf1992f2",
   "metadata": {},
   "outputs": [
    {
     "data": {
      "text/plain": [
       "'Bta'"
      ]
     },
     "execution_count": 43,
     "metadata": {},
     "output_type": "execute_result"
    }
   ],
   "source": [
    "msg[8::3]"
   ]
  },
  {
   "cell_type": "code",
   "execution_count": 45,
   "id": "8759ef67-21fb-4a2f-b454-90ffb9ea49c5",
   "metadata": {},
   "outputs": [
    {
     "data": {
      "text/plain": [
       "\"It's my Birthday\""
      ]
     },
     "execution_count": 45,
     "metadata": {},
     "output_type": "execute_result"
    }
   ],
   "source": [
    "msg"
   ]
  },
  {
   "cell_type": "code",
   "execution_count": 47,
   "id": "7315357b-cc48-492f-82e4-166dc87ccf82",
   "metadata": {},
   "outputs": [
    {
     "data": {
      "text/plain": [
       "'y'"
      ]
     },
     "execution_count": 47,
     "metadata": {},
     "output_type": "execute_result"
    }
   ],
   "source": [
    "msg[-1]"
   ]
  },
  {
   "cell_type": "code",
   "execution_count": 49,
   "id": "ba6c2f9a-56d8-414b-a7f6-79e627746a48",
   "metadata": {},
   "outputs": [
    {
     "data": {
      "text/plain": [
       "'B'"
      ]
     },
     "execution_count": 49,
     "metadata": {},
     "output_type": "execute_result"
    }
   ],
   "source": [
    "msg[-8]"
   ]
  },
  {
   "cell_type": "code",
   "execution_count": 51,
   "id": "7eac07b0-2c8a-460c-b475-5b5fe92dbab4",
   "metadata": {},
   "outputs": [
    {
     "data": {
      "text/plain": [
       "'Birthday'"
      ]
     },
     "execution_count": 51,
     "metadata": {},
     "output_type": "execute_result"
    }
   ],
   "source": [
    "msg[-8:]"
   ]
  },
  {
   "cell_type": "code",
   "execution_count": 57,
   "id": "a8b7fe5b-adf2-419e-81bc-a07bc05e627f",
   "metadata": {},
   "outputs": [
    {
     "data": {
      "text/plain": [
       "'Bi'"
      ]
     },
     "execution_count": 57,
     "metadata": {},
     "output_type": "execute_result"
    }
   ],
   "source": [
    "msg[-8:-6]"
   ]
  },
  {
   "cell_type": "code",
   "execution_count": 59,
   "id": "d3fc6ea5-6af0-485f-bae3-19d0d2efe773",
   "metadata": {},
   "outputs": [
    {
     "data": {
      "text/plain": [
       "'my'"
      ]
     },
     "execution_count": 59,
     "metadata": {},
     "output_type": "execute_result"
    }
   ],
   "source": [
    "msg[-11:-9]"
   ]
  },
  {
   "cell_type": "code",
   "execution_count": 61,
   "id": "03117093-d65b-43b8-97b6-b8810cd46812",
   "metadata": {},
   "outputs": [
    {
     "data": {
      "text/plain": [
       "\"It's my Birthday\""
      ]
     },
     "execution_count": 61,
     "metadata": {},
     "output_type": "execute_result"
    }
   ],
   "source": [
    "msg"
   ]
  },
  {
   "cell_type": "code",
   "execution_count": 63,
   "id": "44820012-57d0-474c-b9b9-b05954e284ff",
   "metadata": {},
   "outputs": [
    {
     "data": {
      "text/plain": [
       "[\"It's\", 'my', 'Birthday']"
      ]
     },
     "execution_count": 63,
     "metadata": {},
     "output_type": "execute_result"
    }
   ],
   "source": [
    "msg.split()"
   ]
  },
  {
   "cell_type": "code",
   "execution_count": 77,
   "id": "e8e6a391-f293-4e01-ba40-2b055b04b248",
   "metadata": {},
   "outputs": [
    {
     "data": {
      "text/plain": [
       "'Apple;Banana;Mango'"
      ]
     },
     "execution_count": 77,
     "metadata": {},
     "output_type": "execute_result"
    }
   ],
   "source": [
    "msg1=\"Apple;Banana;Mango\"\n",
    "msg1"
   ]
  },
  {
   "cell_type": "code",
   "execution_count": 79,
   "id": "ce0a4f8b-e654-4441-8191-9f98c01ae4fb",
   "metadata": {},
   "outputs": [
    {
     "data": {
      "text/plain": [
       "['Apple;Banana;Mango']"
      ]
     },
     "execution_count": 79,
     "metadata": {},
     "output_type": "execute_result"
    }
   ],
   "source": [
    "msg1.split()"
   ]
  },
  {
   "cell_type": "code",
   "execution_count": 83,
   "id": "eec21506-a96b-4144-b73a-979e94af2de4",
   "metadata": {},
   "outputs": [
    {
     "data": {
      "text/plain": [
       "['Apple', 'Banana', 'Mango']"
      ]
     },
     "execution_count": 83,
     "metadata": {},
     "output_type": "execute_result"
    }
   ],
   "source": [
    "msg1.split(';')"
   ]
  },
  {
   "cell_type": "code",
   "execution_count": 87,
   "id": "025b11df-6db1-426c-ae96-e6bbfbbe9d0c",
   "metadata": {},
   "outputs": [
    {
     "data": {
      "text/plain": [
       "16"
      ]
     },
     "execution_count": 87,
     "metadata": {},
     "output_type": "execute_result"
    }
   ],
   "source": [
    "len(msg)"
   ]
  },
  {
   "cell_type": "code",
   "execution_count": 89,
   "id": "97ed93ae-e6dd-4dfd-83f0-98dfc74723ac",
   "metadata": {},
   "outputs": [
    {
     "data": {
      "text/plain": [
       "\"It's my Birthday\""
      ]
     },
     "execution_count": 89,
     "metadata": {},
     "output_type": "execute_result"
    }
   ],
   "source": [
    "msg"
   ]
  },
  {
   "cell_type": "code",
   "execution_count": 95,
   "id": "fdd87d9c-35b0-40c1-9e0f-4bf4574088f9",
   "metadata": {},
   "outputs": [
    {
     "name": "stdout",
     "output_type": "stream",
     "text": [
      "B is present\n"
     ]
    }
   ],
   "source": [
    "for i in msg:\n",
    "    if (i==\"B\"):\n",
    "        print(\"B is present\")\n",
    "    "
   ]
  },
  {
   "cell_type": "code",
   "execution_count": 97,
   "id": "5d0abd2a-86f9-4592-af09-f826f98ec1b5",
   "metadata": {},
   "outputs": [
    {
     "data": {
      "text/plain": [
       "\"IT'S MY BIRTHDAY\""
      ]
     },
     "execution_count": 97,
     "metadata": {},
     "output_type": "execute_result"
    }
   ],
   "source": [
    "msg.upper()"
   ]
  },
  {
   "cell_type": "code",
   "execution_count": 99,
   "id": "b8a396ff-a58b-4e16-a060-6aeaf1901dca",
   "metadata": {},
   "outputs": [
    {
     "data": {
      "text/plain": [
       "\"it's my birthday\""
      ]
     },
     "execution_count": 99,
     "metadata": {},
     "output_type": "execute_result"
    }
   ],
   "source": [
    "msg.lower()"
   ]
  },
  {
   "cell_type": "code",
   "execution_count": 107,
   "id": "640bc339-86af-4632-87f4-6706346a09b0",
   "metadata": {},
   "outputs": [
    {
     "name": "stdin",
     "output_type": "stream",
     "text": [
      "Enter your name dgfdg\n"
     ]
    },
    {
     "data": {
      "text/plain": [
       "'dgfdg'"
      ]
     },
     "execution_count": 107,
     "metadata": {},
     "output_type": "execute_result"
    }
   ],
   "source": [
    "name=input(\"Enter your name\")\n",
    "name"
   ]
  },
  {
   "cell_type": "code",
   "execution_count": 111,
   "id": "5af4d1b4-34f0-4c0e-980d-93ef38400073",
   "metadata": {},
   "outputs": [
    {
     "name": "stdin",
     "output_type": "stream",
     "text": [
      "Enter a value 5\n"
     ]
    },
    {
     "name": "stdout",
     "output_type": "stream",
     "text": [
      "25\n"
     ]
    }
   ],
   "source": [
    "a=int(input(\"Enter a value\"))\n",
    "print(a*a)"
   ]
  },
  {
   "cell_type": "code",
   "execution_count": null,
   "id": "e55fc576-a611-41f7-89d5-4b018bbd6ed3",
   "metadata": {},
   "outputs": [],
   "source": []
  }
 ],
 "metadata": {
  "kernelspec": {
   "display_name": "Python 3 (ipykernel)",
   "language": "python",
   "name": "python3"
  },
  "language_info": {
   "codemirror_mode": {
    "name": "ipython",
    "version": 3
   },
   "file_extension": ".py",
   "mimetype": "text/x-python",
   "name": "python",
   "nbconvert_exporter": "python",
   "pygments_lexer": "ipython3",
   "version": "3.12.4"
  }
 },
 "nbformat": 4,
 "nbformat_minor": 5
}
